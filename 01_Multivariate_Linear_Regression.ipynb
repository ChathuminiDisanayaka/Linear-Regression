{
  "cells": [
    {
      "cell_type": "markdown",
      "metadata": {
        "id": "view-in-github",
        "colab_type": "text"
      },
      "source": [
        "<a href=\"https://colab.research.google.com/github/ChathuminiDisanayaka/Linear-Regression/blob/main/01_Multivariate_Linear_Regression.ipynb\" target=\"_parent\"><img src=\"https://colab.research.google.com/assets/colab-badge.svg\" alt=\"Open In Colab\"/></a>"
      ]
    },
    {
      "cell_type": "markdown",
      "metadata": {
        "id": "T38Rajor6_sf"
      },
      "source": [
        "The estimated relative performance values were estimated by the authors using a linear regression method.\n",
        "Selection: Regression\n",
        "For assignment"
      ]
    },
    {
      "cell_type": "markdown",
      "metadata": {
        "id": "xMRqNjAlfEo5"
      },
      "source": [
        "**Import neccessary libraries**"
      ]
    },
    {
      "cell_type": "code",
      "execution_count": null,
      "metadata": {
        "id": "xbp7iWSWTxp4"
      },
      "outputs": [],
      "source": [
        "%matplotlib inline\n",
        "import pandas as pd\n",
        "#for mathematical functions\n",
        "import numpy as np \n",
        "#plottting functions\n",
        "import matplotlib.pyplot as plt\n",
        "from sklearn.preprocessing import normalize\n",
        "from mpl_toolkits.mplot3d import Axes3D"
      ]
    },
    {
      "cell_type": "markdown",
      "metadata": {
        "id": "Mbt3HakKgXhe"
      },
      "source": [
        "**Import the dataset**"
      ]
    },
    {
      "cell_type": "code",
      "execution_count": null,
      "metadata": {
        "id": "LtWB6tX2e0Ru"
      },
      "outputs": [],
      "source": [
        "\n",
        "data_df = 'https://archive.ics.uci.edu/ml/machine-learning-databases/cpu-performance/machine.data'\n",
        "data = pd.read_csv(data_df,header=None)\n"
      ]
    },
    {
      "cell_type": "code",
      "execution_count": null,
      "metadata": {
        "colab": {
          "base_uri": "https://localhost:8080/",
          "height": 424
        },
        "id": "T--6Aq5E3r_r",
        "outputId": "9067a96d-175f-4543-e152-f7a126d1d2da"
      },
      "outputs": [
        {
          "output_type": "execute_result",
          "data": {
            "text/plain": [
              "       2     3      4    5   6    7    8    9\n",
              "0    125   256   6000  256  16  128  198  199\n",
              "1     29  8000  32000   32   8   32  269  253\n",
              "2     29  8000  32000   32   8   32  220  253\n",
              "3     29  8000  32000   32   8   32  172  253\n",
              "4     29  8000  16000   32   8   16  132  132\n",
              "..   ...   ...    ...  ...  ..  ...  ...  ...\n",
              "204  124  1000   8000    0   1    8   42   37\n",
              "205   98  1000   8000   32   2    8   46   50\n",
              "206  125  2000   8000    0   2   14   52   41\n",
              "207  480   512   8000   32   0    0   67   47\n",
              "208  480  1000   4000    0   0    0   45   25\n",
              "\n",
              "[209 rows x 8 columns]"
            ],
            "text/html": [
              "\n",
              "  <div id=\"df-f3d31997-cc64-4164-b511-3274a7f021fc\">\n",
              "    <div class=\"colab-df-container\">\n",
              "      <div>\n",
              "<style scoped>\n",
              "    .dataframe tbody tr th:only-of-type {\n",
              "        vertical-align: middle;\n",
              "    }\n",
              "\n",
              "    .dataframe tbody tr th {\n",
              "        vertical-align: top;\n",
              "    }\n",
              "\n",
              "    .dataframe thead th {\n",
              "        text-align: right;\n",
              "    }\n",
              "</style>\n",
              "<table border=\"1\" class=\"dataframe\">\n",
              "  <thead>\n",
              "    <tr style=\"text-align: right;\">\n",
              "      <th></th>\n",
              "      <th>2</th>\n",
              "      <th>3</th>\n",
              "      <th>4</th>\n",
              "      <th>5</th>\n",
              "      <th>6</th>\n",
              "      <th>7</th>\n",
              "      <th>8</th>\n",
              "      <th>9</th>\n",
              "    </tr>\n",
              "  </thead>\n",
              "  <tbody>\n",
              "    <tr>\n",
              "      <th>0</th>\n",
              "      <td>125</td>\n",
              "      <td>256</td>\n",
              "      <td>6000</td>\n",
              "      <td>256</td>\n",
              "      <td>16</td>\n",
              "      <td>128</td>\n",
              "      <td>198</td>\n",
              "      <td>199</td>\n",
              "    </tr>\n",
              "    <tr>\n",
              "      <th>1</th>\n",
              "      <td>29</td>\n",
              "      <td>8000</td>\n",
              "      <td>32000</td>\n",
              "      <td>32</td>\n",
              "      <td>8</td>\n",
              "      <td>32</td>\n",
              "      <td>269</td>\n",
              "      <td>253</td>\n",
              "    </tr>\n",
              "    <tr>\n",
              "      <th>2</th>\n",
              "      <td>29</td>\n",
              "      <td>8000</td>\n",
              "      <td>32000</td>\n",
              "      <td>32</td>\n",
              "      <td>8</td>\n",
              "      <td>32</td>\n",
              "      <td>220</td>\n",
              "      <td>253</td>\n",
              "    </tr>\n",
              "    <tr>\n",
              "      <th>3</th>\n",
              "      <td>29</td>\n",
              "      <td>8000</td>\n",
              "      <td>32000</td>\n",
              "      <td>32</td>\n",
              "      <td>8</td>\n",
              "      <td>32</td>\n",
              "      <td>172</td>\n",
              "      <td>253</td>\n",
              "    </tr>\n",
              "    <tr>\n",
              "      <th>4</th>\n",
              "      <td>29</td>\n",
              "      <td>8000</td>\n",
              "      <td>16000</td>\n",
              "      <td>32</td>\n",
              "      <td>8</td>\n",
              "      <td>16</td>\n",
              "      <td>132</td>\n",
              "      <td>132</td>\n",
              "    </tr>\n",
              "    <tr>\n",
              "      <th>...</th>\n",
              "      <td>...</td>\n",
              "      <td>...</td>\n",
              "      <td>...</td>\n",
              "      <td>...</td>\n",
              "      <td>...</td>\n",
              "      <td>...</td>\n",
              "      <td>...</td>\n",
              "      <td>...</td>\n",
              "    </tr>\n",
              "    <tr>\n",
              "      <th>204</th>\n",
              "      <td>124</td>\n",
              "      <td>1000</td>\n",
              "      <td>8000</td>\n",
              "      <td>0</td>\n",
              "      <td>1</td>\n",
              "      <td>8</td>\n",
              "      <td>42</td>\n",
              "      <td>37</td>\n",
              "    </tr>\n",
              "    <tr>\n",
              "      <th>205</th>\n",
              "      <td>98</td>\n",
              "      <td>1000</td>\n",
              "      <td>8000</td>\n",
              "      <td>32</td>\n",
              "      <td>2</td>\n",
              "      <td>8</td>\n",
              "      <td>46</td>\n",
              "      <td>50</td>\n",
              "    </tr>\n",
              "    <tr>\n",
              "      <th>206</th>\n",
              "      <td>125</td>\n",
              "      <td>2000</td>\n",
              "      <td>8000</td>\n",
              "      <td>0</td>\n",
              "      <td>2</td>\n",
              "      <td>14</td>\n",
              "      <td>52</td>\n",
              "      <td>41</td>\n",
              "    </tr>\n",
              "    <tr>\n",
              "      <th>207</th>\n",
              "      <td>480</td>\n",
              "      <td>512</td>\n",
              "      <td>8000</td>\n",
              "      <td>32</td>\n",
              "      <td>0</td>\n",
              "      <td>0</td>\n",
              "      <td>67</td>\n",
              "      <td>47</td>\n",
              "    </tr>\n",
              "    <tr>\n",
              "      <th>208</th>\n",
              "      <td>480</td>\n",
              "      <td>1000</td>\n",
              "      <td>4000</td>\n",
              "      <td>0</td>\n",
              "      <td>0</td>\n",
              "      <td>0</td>\n",
              "      <td>45</td>\n",
              "      <td>25</td>\n",
              "    </tr>\n",
              "  </tbody>\n",
              "</table>\n",
              "<p>209 rows × 8 columns</p>\n",
              "</div>\n",
              "      <button class=\"colab-df-convert\" onclick=\"convertToInteractive('df-f3d31997-cc64-4164-b511-3274a7f021fc')\"\n",
              "              title=\"Convert this dataframe to an interactive table.\"\n",
              "              style=\"display:none;\">\n",
              "        \n",
              "  <svg xmlns=\"http://www.w3.org/2000/svg\" height=\"24px\"viewBox=\"0 0 24 24\"\n",
              "       width=\"24px\">\n",
              "    <path d=\"M0 0h24v24H0V0z\" fill=\"none\"/>\n",
              "    <path d=\"M18.56 5.44l.94 2.06.94-2.06 2.06-.94-2.06-.94-.94-2.06-.94 2.06-2.06.94zm-11 1L8.5 8.5l.94-2.06 2.06-.94-2.06-.94L8.5 2.5l-.94 2.06-2.06.94zm10 10l.94 2.06.94-2.06 2.06-.94-2.06-.94-.94-2.06-.94 2.06-2.06.94z\"/><path d=\"M17.41 7.96l-1.37-1.37c-.4-.4-.92-.59-1.43-.59-.52 0-1.04.2-1.43.59L10.3 9.45l-7.72 7.72c-.78.78-.78 2.05 0 2.83L4 21.41c.39.39.9.59 1.41.59.51 0 1.02-.2 1.41-.59l7.78-7.78 2.81-2.81c.8-.78.8-2.07 0-2.86zM5.41 20L4 18.59l7.72-7.72 1.47 1.35L5.41 20z\"/>\n",
              "  </svg>\n",
              "      </button>\n",
              "      \n",
              "  <style>\n",
              "    .colab-df-container {\n",
              "      display:flex;\n",
              "      flex-wrap:wrap;\n",
              "      gap: 12px;\n",
              "    }\n",
              "\n",
              "    .colab-df-convert {\n",
              "      background-color: #E8F0FE;\n",
              "      border: none;\n",
              "      border-radius: 50%;\n",
              "      cursor: pointer;\n",
              "      display: none;\n",
              "      fill: #1967D2;\n",
              "      height: 32px;\n",
              "      padding: 0 0 0 0;\n",
              "      width: 32px;\n",
              "    }\n",
              "\n",
              "    .colab-df-convert:hover {\n",
              "      background-color: #E2EBFA;\n",
              "      box-shadow: 0px 1px 2px rgba(60, 64, 67, 0.3), 0px 1px 3px 1px rgba(60, 64, 67, 0.15);\n",
              "      fill: #174EA6;\n",
              "    }\n",
              "\n",
              "    [theme=dark] .colab-df-convert {\n",
              "      background-color: #3B4455;\n",
              "      fill: #D2E3FC;\n",
              "    }\n",
              "\n",
              "    [theme=dark] .colab-df-convert:hover {\n",
              "      background-color: #434B5C;\n",
              "      box-shadow: 0px 1px 3px 1px rgba(0, 0, 0, 0.15);\n",
              "      filter: drop-shadow(0px 1px 2px rgba(0, 0, 0, 0.3));\n",
              "      fill: #FFFFFF;\n",
              "    }\n",
              "  </style>\n",
              "\n",
              "      <script>\n",
              "        const buttonEl =\n",
              "          document.querySelector('#df-f3d31997-cc64-4164-b511-3274a7f021fc button.colab-df-convert');\n",
              "        buttonEl.style.display =\n",
              "          google.colab.kernel.accessAllowed ? 'block' : 'none';\n",
              "\n",
              "        async function convertToInteractive(key) {\n",
              "          const element = document.querySelector('#df-f3d31997-cc64-4164-b511-3274a7f021fc');\n",
              "          const dataTable =\n",
              "            await google.colab.kernel.invokeFunction('convertToInteractive',\n",
              "                                                     [key], {});\n",
              "          if (!dataTable) return;\n",
              "\n",
              "          const docLinkHtml = 'Like what you see? Visit the ' +\n",
              "            '<a target=\"_blank\" href=https://colab.research.google.com/notebooks/data_table.ipynb>data table notebook</a>'\n",
              "            + ' to learn more about interactive tables.';\n",
              "          element.innerHTML = '';\n",
              "          dataTable['output_type'] = 'display_data';\n",
              "          await google.colab.output.renderOutput(dataTable, element);\n",
              "          const docLink = document.createElement('div');\n",
              "          docLink.innerHTML = docLinkHtml;\n",
              "          element.appendChild(docLink);\n",
              "        }\n",
              "      </script>\n",
              "    </div>\n",
              "  </div>\n",
              "  "
            ]
          },
          "metadata": {},
          "execution_count": 43
        }
      ],
      "source": [
        "dfnew = data.select_dtypes(include=np.number)\n",
        "dfnew"
      ]
    },
    {
      "cell_type": "markdown",
      "metadata": {
        "id": "qPvCy9s11II1"
      },
      "source": [
        "**Filter only numeric data**"
      ]
    },
    {
      "cell_type": "markdown",
      "metadata": {
        "id": "odoSY_bI2TDg"
      },
      "source": [
        "**Normalize the dataset** "
      ]
    },
    {
      "cell_type": "code",
      "execution_count": null,
      "metadata": {
        "id": "TfitoZB0kpCb"
      },
      "outputs": [],
      "source": [
        "dfnew = normalize(dfnew, axis=0)"
      ]
    },
    {
      "cell_type": "markdown",
      "metadata": {
        "id": "vTUhZLytQKLC"
      },
      "source": [
        "Pre process the data"
      ]
    },
    {
      "cell_type": "markdown",
      "metadata": {
        "id": "tLcJ1Fq924xr"
      },
      "source": [
        "**Seperate data into X and Y variable**"
      ]
    },
    {
      "cell_type": "code",
      "execution_count": null,
      "metadata": {
        "id": "Amn2hfQuMXCN"
      },
      "outputs": [],
      "source": [
        "#Independent variable\n",
        "X = dfnew[:, 0:7]\n",
        "#Dependent variable  \n",
        "Y = dfnew[:, 7:] "
      ]
    },
    {
      "cell_type": "markdown",
      "metadata": {
        "id": "8yYu8hEr29Zh"
      },
      "source": [
        "**Data visulaization**"
      ]
    },
    {
      "cell_type": "code",
      "execution_count": null,
      "metadata": {
        "colab": {
          "base_uri": "https://localhost:8080/",
          "height": 248
        },
        "id": "6EwqFlg_Mdss",
        "outputId": "86df342b-8431-4947-bff3-6e2c6c63514f"
      },
      "outputs": [
        {
          "output_type": "display_data",
          "data": {
            "text/plain": [
              "<Figure size 432x288 with 1 Axes>"
            ],
            "image/png": "[encoded data removed]"
          },
          "metadata": {
            "needs_background": "light"
          }
        }
      ],
      "source": [
        "# Fixing random state for reproducibility\n",
        "np.random.seed(19680801)\n",
        "\n",
        "fig = plt.figure()\n",
        "ax = fig.add_subplot(111, projection='3d')\n",
        "\n",
        "xaxis = X[:, 3]\n",
        "yaxis = X[:, 4]\n",
        "zaxis = Y\n",
        "ax.scatter(xaxis, yaxis, zaxis)\n",
        "\n",
        "ax.set_xlabel('Machine cycle time')\n",
        "ax.set_ylabel('Minimum main memory')\n",
        "ax.set_zlabel('Estimated relative performance')\n",
        "\n",
        "plt.show()"
      ]
    },
    {
      "cell_type": "markdown",
      "metadata": {
        "id": "R7hdwr4q3A4A"
      },
      "source": [
        "**Hyperparameters**"
      ]
    },
    {
      "cell_type": "code",
      "execution_count": null,
      "metadata": {
        "id": "Thoyx--n0p2E"
      },
      "outputs": [],
      "source": [
        "alpha = 0.01\n",
        "n = 2000"
      ]
    },
    {
      "cell_type": "markdown",
      "metadata": {
        "id": "hnGFD3uj3Dqy"
      },
      "source": [
        "**The thet parameter**"
      ]
    },
    {
      "cell_type": "markdown",
      "metadata": {
        "id": "Yl0J57Mu6WNJ"
      },
      "source": [
        "Assign theta as '0' for the hypothesis"
      ]
    },
    {
      "cell_type": "code",
      "execution_count": null,
      "metadata": {
        "colab": {
          "base_uri": "https://localhost:8080/"
        },
        "id": "21x5blIG0tph",
        "outputId": "96636a14-322c-4045-d684-4684506613d7"
      },
      "outputs": [
        {
          "output_type": "stream",
          "name": "stdout",
          "text": [
            "[[0.]\n",
            " [0.]\n",
            " [0.]\n",
            " [0.]\n",
            " [0.]\n",
            " [0.]\n",
            " [0.]\n",
            " [0.]]\n"
          ]
        }
      ],
      "source": [
        "theta = np.zeros((dfnew.shape[1],1))\n",
        "print(theta)"
      ]
    },
    {
      "cell_type": "markdown",
      "metadata": {
        "id": "ndRiFMEH3FX3"
      },
      "source": [
        "**Make Hypothesis**\n"
      ]
    },
    {
      "cell_type": "markdown",
      "metadata": {
        "id": "9T1-cImL7BBy"
      },
      "source": [
        "Define the function needed to generate the hypothesis"
      ]
    },
    {
      "cell_type": "code",
      "execution_count": null,
      "metadata": {
        "id": "y3lTo8E400CL"
      },
      "outputs": [],
      "source": [
        "def hypothesis (theta, X) :\n",
        "  tX = np.ones((X.shape[0], X.shape[1] + 1))\n",
        "  tX[:,1:] = X\n",
        "  return np.matmul(tX, theta)"
      ]
    },
    {
      "cell_type": "markdown",
      "metadata": {
        "id": "Ov99gJds3HNz"
      },
      "source": [
        "**Define cost function**"
      ]
    },
    {
      "cell_type": "code",
      "execution_count": null,
      "metadata": {
        "id": "lC6jw_h604CC"
      },
      "outputs": [],
      "source": [
        "def cost_func (theta, X, Y) :\n",
        "   return np.average(np.square(Y - hypothesis(theta, X))) / 2"
      ]
    },
    {
      "cell_type": "markdown",
      "metadata": {
        "id": "tC1QvW_63NRK"
      },
      "source": [
        "**Define gradient descent algorithm**"
      ]
    },
    {
      "cell_type": "code",
      "execution_count": null,
      "metadata": {
        "id": "TBCYiSJtEyrK"
      },
      "outputs": [],
      "source": [
        "def gradient (theta, X, Y) :\n",
        "  tX = np.ones((X.shape[0], X.shape[1] + 1))\n",
        "  tX[:,1:] = X\n",
        "  d_theta = - np.average((Y - hypothesis(theta, X)) * tX, axis= 0)\n",
        "  d_theta = d_theta.reshape((d_theta.shape[0], 1))\n",
        "  return d_theta"
      ]
    },
    {
      "cell_type": "code",
      "execution_count": null,
      "metadata": {
        "id": "Yoc9veyVEzLb"
      },
      "outputs": [],
      "source": [
        "def gradient_descent (theta, X, Y, alpha, n, gap) :\n",
        "  cost = np.zeros(n)\n",
        "  for i in range(n) :\n",
        "    d_theta = gradient (theta, X, Y)\n",
        "    theta = theta - alpha * d_theta\n",
        "    cost[i] = cost_func(theta, X, Y)\n",
        "    if i % gap == 0 :\n",
        "      print ('iteration : ', i, ' cost : ', cost_func(theta, X, Y)) \n",
        "  return theta, cost"
      ]
    },
    {
      "cell_type": "code",
      "execution_count": null,
      "metadata": {
        "colab": {
          "base_uri": "https://localhost:8080/"
        },
        "id": "zwe0rXTlFJK4",
        "outputId": "7c87392b-bfdc-4fe5-ea79-4a4ca7b866df"
      },
      "outputs": [
        {
          "output_type": "stream",
          "name": "stdout",
          "text": [
            "iteration :  0  cost :  0.00237745069201059\n",
            "iteration :  100  cost :  0.0017266713145470728\n",
            "iteration :  200  cost :  0.0016108060043046929\n",
            "iteration :  300  cost :  0.0015656621906048982\n",
            "iteration :  400  cost :  0.0015305121266994603\n",
            "iteration :  500  cost :  0.0014973948908676442\n",
            "iteration :  600  cost :  0.0014652510390037183\n",
            "iteration :  700  cost :  0.0014339241850678836\n",
            "iteration :  800  cost :  0.0014033764981221432\n",
            "iteration :  900  cost :  0.0013735860912952712\n",
            "iteration :  1000  cost :  0.0013445335909053337\n",
            "iteration :  1100  cost :  0.0013162003691110041\n",
            "iteration :  1200  cost :  0.001288568302227613\n",
            "iteration :  1300  cost :  0.0012616197288407693\n",
            "iteration :  1400  cost :  0.0012353374343099452\n",
            "iteration :  1500  cost :  0.0012097046389766808\n",
            "iteration :  1600  cost :  0.0011847049871041527\n",
            "iteration :  1700  cost :  0.0011603225361530125\n",
            "iteration :  1800  cost :  0.0011365417463357428\n",
            "iteration :  1900  cost :  0.0011133474704360464\n"
          ]
        }
      ],
      "source": [
        "theta, cost = gradient_descent (theta, X, Y, alpha, n,100)"
      ]
    },
    {
      "cell_type": "code",
      "execution_count": null,
      "metadata": {
        "colab": {
          "base_uri": "https://localhost:8080/"
        },
        "id": "KlYNwAZ5Fpjl",
        "outputId": "920998de-bc78-4d12-f191-3d8b1ecc17b4"
      },
      "outputs": [
        {
          "output_type": "execute_result",
          "data": {
            "text/plain": [
              "array([[ 0.02770814],\n",
              "       [-0.01396092],\n",
              "       [ 0.04808264],\n",
              "       [ 0.04673801],\n",
              "       [ 0.03930422],\n",
              "       [ 0.035777  ],\n",
              "       [ 0.03498959],\n",
              "       [ 0.05880745]])"
            ]
          },
          "metadata": {},
          "execution_count": 85
        }
      ],
      "source": [
        "theta"
      ]
    },
    {
      "cell_type": "markdown",
      "metadata": {
        "id": "hIxRQlK93whs"
      },
      "source": [
        "**Plot cost vs iteration**"
      ]
    },
    {
      "cell_type": "code",
      "execution_count": null,
      "metadata": {
        "colab": {
          "base_uri": "https://localhost:8080/",
          "height": 295
        },
        "id": "2QOzFyXP1si7",
        "outputId": "5aa5d0ea-2c9e-40ce-c556-b23f58e22e79"
      },
      "outputs": [
        {
          "output_type": "display_data",
          "data": {
            "text/plain": [
              "<Figure size 432x288 with 1 Axes>"
            ],
            "image/png": "[encoded data removed]"
          },
          "metadata": {
            "needs_background": "light"
          }
        }
      ],
      "source": [
        "fig, axes = plt.subplots()  \n",
        "axes.plot(np.arange(n), cost, 'r')    \n",
        "axes.legend(loc='upper right', labels=[' gradient descent'])\n",
        "axes.set_xlabel('No of Iterations')  \n",
        "axes.set_ylabel('Cost per iteration')  \n",
        "axes.set_title('Cost Vs Iterations')  \n",
        "\n",
        "plt.show()"
      ]
    },
    {
      "cell_type": "markdown",
      "metadata": {
        "id": "i39Wqz_D5HsO"
      },
      "source": [
        "Here, can observe that the cost gradullay decreases and converges."
      ]
    }
  ],
  "metadata": {
    "colab": {
      "name": "01 Multivariate Linear Regression.ipynb",
      "provenance": [],
      "authorship_tag": "ABX9TyOCh1GKdpog0Dzw/L0Tuqxf",
      "include_colab_link": true
    },
    "kernelspec": {
      "display_name": "Python 3",
      "name": "python3"
    },
    "language_info": {
      "name": "python"
    }
  },
  "nbformat": 4,
  "nbformat_minor": 0
}